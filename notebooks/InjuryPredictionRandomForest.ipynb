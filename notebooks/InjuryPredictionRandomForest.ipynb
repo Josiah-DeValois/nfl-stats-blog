{
 "cells": [
  {
   "cell_type": "markdown",
   "id": "42e6f8b3",
   "metadata": {},
   "source": [
    "# Random Forest for Injury Risk\n",
    "\n",
    "We estimate the probability of a player missing a game due to injury using a random forest classifier on workload metrics."
   ]
  },
  {
   "cell_type": "markdown",
   "id": "3fe2d273",
   "metadata": {},
   "source": [
    "## Ensemble Concept\n",
    "A random forest aggregates $B$ decision trees, each trained on bootstrapped data, and predicts by majority vote. This reduces variance compared to a single tree."
   ]
  },
  {
   "cell_type": "code",
   "execution_count": null,
   "id": "8256c90f",
   "metadata": {},
   "outputs": [],
   "source": [
    "import numpy as np\n",
    "import pandas as pd\n",
    "from sklearn.ensemble import RandomForestClassifier\n",
    "from sklearn.metrics import roc_auc_score\n",
    "np.random.seed(3)\n",
    "N=300\n",
    "X = pd.DataFrame({\n",
    "    'hits': np.random.poisson(5,N),\n",
    "    'snaps': np.random.randint(20,80,N),\n",
    "    'past_injury': np.random.binomial(1,0.3,N)\n",
    "})\n",
    "# true injury probability\n",
    "logit = 0.2*X['hits'] + 0.02*X['snaps'] + 1.0*X['past_injury'] -5\n",
    "prob = 1/(1+np.exp(-logit))\n",
    "y = np.random.binomial(1, prob)\n",
    "model = RandomForestClassifier(n_estimators=100, random_state=0)\n",
    "model.fit(X,y)\n",
    "pred_prob = model.predict_proba(X)[:,1]\n",
    "print('AUC:', roc_auc_score(y, pred_prob))\n",
    "print('Feature importance:', dict(zip(X.columns, model.feature_importances_)))"
   ]
  },
  {
   "cell_type": "markdown",
   "id": "5c79b2d2",
   "metadata": {},
   "source": [
    "## Ethics Note\n",
    "Predicting injuries involves uncertainty and ethical considerations. Models should complement, not replace, medical expertise."
   ]
  }
 ],
 "metadata": {},
 "nbformat": 4,
 "nbformat_minor": 5
}
