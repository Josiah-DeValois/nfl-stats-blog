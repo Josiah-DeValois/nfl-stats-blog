{
 "cells": [
  {
   "cell_type": "markdown",
   "id": "b087a61e",
   "metadata": {},
   "source": [
    "# Bayesian Updating for In-Game Win Probability\n",
    "\n",
    "We update a team's win probability after each play using Bayes' theorem."
   ]
  },
  {
   "cell_type": "markdown",
   "id": "fd38bb7a",
   "metadata": {},
   "source": [
    "## Bayesian Update\n",
    "Given prior $P(H)$ and likelihood $P(E|H)$, the posterior is\n",
    "\\[ P(H|E)=\f",
    "rac{P(E|H)P(H)}{P(E)} \\]"
   ]
  },
  {
   "cell_type": "code",
   "execution_count": null,
   "id": "de6a4977",
   "metadata": {},
   "outputs": [],
   "source": [
    "prior = 0.5\n",
    "likelihood = {'success':0.6,'failure':0.4}\n",
    "for play in ['success','failure','success']:\n",
    "    num = likelihood[play]*prior\n",
    "    denom = num + likelihood[play]*(1-prior)\n",
    "    prior = num/denom\n",
    "    print(f'After {play}: {prior:.3f}')\n"
   ]
  },
  {
   "cell_type": "markdown",
   "id": "02a03181",
   "metadata": {},
   "source": [
    "## Visualization\n",
    "Plotting the posterior after each event shows how confidence evolves through the game."
   ]
  }
 ],
 "metadata": {},
 "nbformat": 4,
 "nbformat_minor": 5
}
