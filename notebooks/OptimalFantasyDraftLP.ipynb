{
 "cells": [
  {
   "cell_type": "markdown",
   "id": "66f3403e",
   "metadata": {},
   "source": [
    "# Optimal Fantasy Draft via Linear Programming\n",
    "\n",
    "We select a lineup that maximizes projected points under a salary cap using linear programming."
   ]
  },
  {
   "cell_type": "markdown",
   "id": "a5c669b1",
   "metadata": {},
   "source": [
    "## Formulation\n",
    "Maximize $\\sum_i p_i x_i$ subject to $\\sum_i s_i x_i \\leq C$ and roster constraints, where $x_i \\in \\{0,1\\}$ indicates drafting player $i$."
   ]
  },
  {
   "cell_type": "code",
   "execution_count": null,
   "id": "66bfecc7",
   "metadata": {},
   "outputs": [],
   "source": [
    "import pulp\n",
    "players = ['A','B','C','D','E']\n",
    "salary = {'A':10,'B':9,'C':7,'D':6,'E':5}\n",
    "points = {'A':20,'B':18,'C':15,'D':14,'E':10}\n",
    "prob = pulp.LpProblem('Draft', pulp.LpMaximize)\n",
    "select = pulp.LpVariable.dicts('select', players, 0,1,cat='Binary')\n",
    "prob += pulp.lpSum(points[p]*select[p] for p in players)\n",
    "prob += pulp.lpSum(salary[p]*select[p] for p in players) <= 25\n",
    "prob.solve()\n",
    "for p in players:\n",
    "    if select[p].value()==1:\n",
    "        print('Draft', p)\n",
    "print('Total points', pulp.value(prob.objective))"
   ]
  },
  {
   "cell_type": "markdown",
   "id": "a79e2e32",
   "metadata": {},
   "source": [
    "## Extension\n",
    "More detailed drafts include position constraints and projections for more players."
   ]
  }
 ],
 "metadata": {},
 "nbformat": 4,
 "nbformat_minor": 5
}
