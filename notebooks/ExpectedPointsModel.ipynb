{
 "cells": [
  {
   "cell_type": "markdown",
   "id": "e5e96886",
   "metadata": {},
   "source": [
    "# Building an Expected Points Model\n",
    "\n",
    "We compute expected points for drive states defined by down, distance, and field position using historical averages."
   ]
  },
  {
   "cell_type": "markdown",
   "id": "4245b030",
   "metadata": {},
   "source": [
    "## Expected Value\n",
    "For state $s$, expected points are the average of future points from that state:\n",
    "\\[ EP(s) = \f",
    "rac{1}{N_s} \\sum_{i=1}^{N_s} points_i \\]"
   ]
  },
  {
   "cell_type": "code",
   "execution_count": null,
   "id": "6b715647",
   "metadata": {},
   "outputs": [],
   "source": [
    "import pandas as pd\n",
    "# toy dataset of plays with resulting points\n",
    "plays = pd.DataFrame({\n",
    " 'down':[1,1,2,3,1,2],\n",
    " 'distance':[10,5,7,2,10,8],\n",
    " 'yardline':[75,50,40,20,80,30],\n",
    " 'points_next':[3,0,7,0,0,3]\n",
    "})\n",
    "# group by state and average points\n",
    "expected = plays.groupby(['down','distance','yardline'])['points_next'].mean().reset_index()\n",
    "print(expected)\n"
   ]
  },
  {
   "cell_type": "markdown",
   "id": "2a665842",
   "metadata": {},
   "source": [
    "## Comparison\n",
    "This simple approach mirrors public EPA models but omits factors like time and game situation. More data yields smoother estimates."
   ]
  }
 ],
 "metadata": {},
 "nbformat": 4,
 "nbformat_minor": 5
}
