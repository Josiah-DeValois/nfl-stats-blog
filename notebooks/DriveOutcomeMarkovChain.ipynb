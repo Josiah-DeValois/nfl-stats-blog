{
 "cells": [
  {
   "cell_type": "markdown",
   "id": "aa55bfa1",
   "metadata": {},
   "source": [
    "# Markov Chain Model for Drive Outcomes\n",
    "\n",
    "We model drive progression as a Markov chain with states for down and distance, ending in absorbing states of touchdown or turnover."
   ]
  },
  {
   "cell_type": "markdown",
   "id": "c5a20969",
   "metadata": {},
   "source": [
    "## Markov Property\n",
    "A chain with transition matrix $P$ satisfies $P(X_{n+1}=s'|X_n=s, \\ldots)=P_{ss'}$; future states depend only on the current state."
   ]
  },
  {
   "cell_type": "code",
   "execution_count": null,
   "id": "84c18c02",
   "metadata": {},
   "outputs": [],
   "source": [
    "import numpy as np\n",
    "states=['1st','2nd','3rd','4th','TD','Turnover']\n",
    "P=np.array([\n",
    " [0.6,0.3,0.1,0,0,0],\n",
    " [0,0.6,0.3,0.1,0,0],\n",
    " [0,0,0.7,0.2,0.1,0],\n",
    " [0,0,0,0.5,0.2,0.3],\n",
    " [0,0,0,0,1,0],\n",
    " [0,0,0,0,0,1]\n",
    "])\n",
    "# compute absorption probabilities\n",
    "Q=P[:4,:4]\n",
    "R=P[:4,4:]\n",
    "I=np.eye(4)\n",
    "N=np.linalg.inv(I-Q)\n",
    "B=N@R\n",
    "print('Probabilities of TD and Turnover from 1st down:', B[0])\n"
   ]
  },
  {
   "cell_type": "markdown",
   "id": "bff1e478",
   "metadata": {},
   "source": [
    "## Expected Points\n",
    "Multiplying absorption probabilities by point values yields expected points for the starting state."
   ]
  }
 ],
 "metadata": {},
 "nbformat": 4,
 "nbformat_minor": 5
}
