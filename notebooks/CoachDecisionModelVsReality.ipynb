{
 "cells": [
  {
   "cell_type": "markdown",
   "id": "e2698d0d",
   "metadata": {},
   "source": [
    "# Coach Decision Model vs Reality\n",
    "\n",
    "We compare a model's optimal fourth-down decision to actual coaching choices."
   ]
  },
  {
   "cell_type": "markdown",
   "id": "5dbeb2e5",
   "metadata": {},
   "source": [
    "## Modeling Approach\n",
    "A logistic regression estimates the probability that going for it yields higher expected points than punting."
   ]
  },
  {
   "cell_type": "code",
   "execution_count": null,
   "id": "aaa5be68",
   "metadata": {},
   "outputs": [],
   "source": [
    "import numpy as np\n",
    "import pandas as pd\n",
    "from sklearn.linear_model import LogisticRegression\n",
    "from sklearn.metrics import confusion_matrix\n",
    "np.random.seed(4)\n",
    "N=150\n",
    "X=pd.DataFrame({\n",
    " 'yards_to_go': np.random.randint(1,10,N),\n",
    " 'field_pos': np.random.randint(20,80,N)\n",
    "})\n",
    "logit=-0.2*X['yards_to_go']+0.03*(80-X['field_pos'])\n",
    "optimal=np.random.binomial(1,1/(1+np.exp(-logit)))\n",
    "actual = np.where(np.random.rand(N)<0.5, optimal, 1-optimal)\n",
    "model=LogisticRegression().fit(X, optimal)\n",
    "pred=model.predict(X)\n",
    "print('Confusion matrix between model and coaches:\n",
    "', confusion_matrix(actual,pred))\n"
   ]
  },
  {
   "cell_type": "markdown",
   "id": "301ed2a9",
   "metadata": {},
   "source": [
    "## Discussion\n",
    "Differences in the confusion matrix highlight where coaching decisions diverge from model recommendations."
   ]
  }
 ],
 "metadata": {},
 "nbformat": 4,
 "nbformat_minor": 5
}
