{
 "cells": [
  {
   "cell_type": "markdown",
   "id": "d98c901e",
   "metadata": {},
   "source": [
    "# Why Field Position Matters\n",
    "\n",
    "We explore the relationship between starting field position and points scored."
   ]
  },
  {
   "cell_type": "markdown",
   "id": "220fed10",
   "metadata": {},
   "source": [
    "## Correlation\n",
    "Expected points increase roughly linearly with better starting field position."
   ]
  },
  {
   "cell_type": "code",
   "execution_count": null,
   "id": "4b0f2f46",
   "metadata": {},
   "outputs": [],
   "source": [
    "import numpy as np\n",
    "import pandas as pd\n",
    "import matplotlib.pyplot as plt\n",
    "np.random.seed(5)\n",
    "start=np.random.randint(1,100,100)\n",
    "points=0.08*(100-start)+np.random.normal(0,1,100)\n",
    "df=pd.DataFrame({'start':start,'points':points})\n",
    "print(df.corr())\n",
    "plt.scatter(df['start'],df['points'])\n",
    "plt.xlabel('Yardline (100=own goal)')\n",
    "plt.ylabel('Points scored')\n",
    "plt.show()\n"
   ]
  },
  {
   "cell_type": "markdown",
   "id": "a88eeefe",
   "metadata": {},
   "source": [
    "## Takeaway\n",
    "Hidden yardage from special teams and turnovers can swing win probability via field position."
   ]
  }
 ],
 "metadata": {},
 "nbformat": 4,
 "nbformat_minor": 5
}
