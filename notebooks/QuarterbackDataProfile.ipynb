{
 "cells": [
  {
   "cell_type": "markdown",
   "id": "ce42ad0b",
   "metadata": {},
   "source": [
    "# Quarterback Data Profile\n",
    "\n",
    "We examine a quarterback's performance metrics over time to narrate the arc of a career."
   ]
  },
  {
   "cell_type": "markdown",
   "id": "4467dece",
   "metadata": {},
   "source": [
    "## Metrics\n",
    "We track adjusted yards per attempt (AY/A) and rushing EPA per game."
   ]
  },
  {
   "cell_type": "code",
   "execution_count": null,
   "id": "d151c71a",
   "metadata": {},
   "outputs": [],
   "source": [
    "import pandas as pd\n",
    "import matplotlib.pyplot as plt\n",
    "seasons = range(2015,2024)\n",
    "aya=[7,8,8.5,9,8.2,7.5,6.8,7.2,6.5]\n",
    "rush_epa=[0.3,0.4,0.5,0.6,0.4,0.2,0.1,0.05,0.0]\n",
    "profile=pd.DataFrame({'season':seasons,'aya':aya,'rush_epa':rush_epa})\n",
    "profile.plot(x='season',y=['aya','rush_epa'],subplots=True,layout=(2,1),sharex=True)\n",
    "plt.show()\n"
   ]
  },
  {
   "cell_type": "markdown",
   "id": "ae317552",
   "metadata": {},
   "source": [
    "## Narrative\n",
    "The trajectory shows early peak efficiency followed by gradual decline, informing discussions about career longevity."
   ]
  }
 ],
 "metadata": {},
 "nbformat": 4,
 "nbformat_minor": 5
}
