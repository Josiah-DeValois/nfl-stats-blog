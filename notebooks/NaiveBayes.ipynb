{
 "cells": [
  {
   "cell_type": "markdown",
   "id": "5fd326e8",
   "metadata": {},
   "source": [
    "# Naive Bayes for Predicting Game Outcomes\n",
    "\n",
    "This notebook demonstrates how to build a simple Gaussian Naive Bayes model to classify NFL game outcomes using synthetic statistics. The goal is to highlight the conditional independence assumption and how Bayes' theorem is applied in a machine-learning context."
   ]
  },
  {
   "cell_type": "markdown",
   "id": "74efff25",
   "metadata": {},
   "source": [
    "## Bayes' Theorem\n",
    "Given features $X$ and a binary outcome $Y$, Bayes' theorem states:\n",
    "\\[ P(Y|X) = \f",
    "rac{P(X|Y)P(Y)}{P(X)} \\]\\nNaive Bayes assumes the features are conditionally independent given the class, so $P(X|Y)$ factors into the product of individual feature likelihoods."
   ]
  },
  {
   "cell_type": "code",
   "execution_count": null,
   "id": "b3e5effd",
   "metadata": {},
   "outputs": [],
   "source": [
    "import numpy as np\n",
    "import pandas as pd\n",
    "from sklearn.model_selection import train_test_split\n",
    "from sklearn.naive_bayes import GaussianNB\n",
    "from sklearn.metrics import accuracy_score\n",
    "\n",
    "# synthetic dataset: home field advantage and turnovers\n",
    "np.random.seed(0)\n",
    "N = 200\n",
    "home_field = np.random.binomial(1, 0.5, N)\n",
    "turnover_margin = np.random.normal(0, 1, N)\n",
    "# true model: logit of win prob depends on both features\n",
    "logit = 0.8*home_field + 0.5*turnover_margin\n",
    "prob = 1/(1+np.exp(-logit))\n",
    "result = np.random.binomial(1, prob)\n",
    "X = pd.DataFrame({'home_field': home_field, 'turnover_margin': turnover_margin})\n",
    "y = result\n",
    "X_train, X_test, y_train, y_test = train_test_split(X, y, test_size=0.3, random_state=42)\n",
    "model = GaussianNB()\n",
    "model.fit(X_train, y_train)\n",
    "pred = model.predict(X_test)\n",
    "print('Accuracy:', accuracy_score(y_test, pred))"
   ]
  },
  {
   "cell_type": "markdown",
   "id": "d81bd3aa",
   "metadata": {},
   "source": [
    "## Discussion\n",
    "The naive Bayes classifier performs reasonably on this synthetic dataset. In practice, the independence assumption is often violated in football data, but the model can still offer a quick baseline for comparison."
   ]
  }
 ],
 "metadata": {},
 "nbformat": 4,
 "nbformat_minor": 5
}
