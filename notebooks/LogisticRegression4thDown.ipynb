{
 "cells": [
  {
   "cell_type": "markdown",
   "id": "81a96d47",
   "metadata": {},
   "source": [
    "\n",
    "# Fourth Down Bravery: Logistic Regression on Real NFL Data\n",
    "\n",
    "Coaches face a game-changing decision every time fourth down rolls around: **should we go for it or play it safe?**\n",
    "In this notebook we'll use real 2023 NFL play-by-play data to estimate the chance of successfully converting\n",
    "those nerve-wracking fourth downs. Along the way we'll build intuition for logistic regression and how its\n",
    "coefficients translate into football insight.\n"
   ]
  },
  {
   "cell_type": "markdown",
   "id": "66cccdb1",
   "metadata": {},
   "source": [
    "\n",
    "## Step 1: Loading real play-by-play data\n",
    "We start with a dataset of every fourth-down play from the 2023 season. The data was pulled from the\n",
    "[nflfastR](https://github.com/nflverse/nflfastR-data) project and pared down to a few useful columns.\n",
    "Each row represents a single fourth-down attempt with information about field position, yards to go,\n",
    "score differential, time remaining in the half, and whether the play gained a first down.\n"
   ]
  },
  {
   "cell_type": "code",
   "execution_count": null,
   "id": "e975be98",
   "metadata": {},
   "outputs": [],
   "source": [
    "\n",
    "import pandas as pd\n",
    "from sklearn.model_selection import train_test_split\n",
    "from sklearn.linear_model import LogisticRegression\n",
    "from sklearn.metrics import classification_report\n",
    "\n",
    "# Load the real fourth-down data\n",
    "fourth = pd.read_csv('../data/fourth_down_plays_2023.csv')\n",
    "# only keep plays where the offense went for it (run or pass)\n",
    "fourth = fourth[fourth['play_type'].isin(['run','pass'])]\n",
    "print(f\"Loaded {len(fourth):,} fourth-down attempts from {fourth['season'].iloc[0]}.\")\n",
    "fourth.head()\n"
   ]
  },
  {
   "cell_type": "markdown",
   "id": "eda8995f",
   "metadata": {},
   "source": [
    "\n",
    "## Step 2: Feature engineering\n",
    "The goal is to predict whether the offense converts the fourth down. We'll use a handful of intuitive features:\n",
    "\n",
    "* `ydstogo` - yards needed for a first down\n",
    "* `yardline_100` - distance from the opponent's goal line\n",
    "* `score_differential` - how many points the offense is ahead or behind\n",
    "* `half_seconds_remaining` - time left in the current half\n",
    "* `shotgun` and `qb_scramble` indicators\n",
    "\n",
    "These covariates capture both **context** (field position, time, score) and **play design** (formation and quarterback decision).\n"
   ]
  },
  {
   "cell_type": "code",
   "execution_count": null,
   "id": "92d705cd",
   "metadata": {},
   "outputs": [],
   "source": [
    "\n",
    "feature_cols = ['ydstogo', 'yardline_100', 'score_differential',\n",
    "                'half_seconds_remaining', 'shotgun', 'qb_scramble']\n",
    "X = fourth[feature_cols]\n",
    "y = fourth['first_down']\n",
    "X_train, X_test, y_train, y_test = train_test_split(X, y, test_size=0.2, random_state=0)\n",
    "\n",
    "model = LogisticRegression(max_iter=1000)\n",
    "model.fit(X_train, y_train)\n",
    "\n",
    "print(\"Model trained. Coefficients (log-odds per unit):\")\n",
    "for col, coef in zip(feature_cols, model.coef_[0]):\n",
    "    print(f\"  {col:22s} {coef:+.3f}\")\n"
   ]
  },
  {
   "cell_type": "markdown",
   "id": "df01b75b",
   "metadata": {},
   "source": [
    "\n",
    "## Step 3: Evaluating the model\n",
    "How well does the model predict conversions on unseen plays?\n"
   ]
  },
  {
   "cell_type": "code",
   "execution_count": null,
   "id": "95178dd9",
   "metadata": {},
   "outputs": [],
   "source": [
    "\n",
    "pred = model.predict(X_test)\n",
    "print(classification_report(y_test, pred, digits=3))\n"
   ]
  },
  {
   "cell_type": "markdown",
   "id": "8e0a2291",
   "metadata": {},
   "source": [
    "\n",
    "## Step 4: What the numbers tell us\n",
    "Logistic regression estimates the effect of each feature on the **log-odds** of a conversion. Negative\n",
    "coefficients (like `ydstogo`) reduce the chance of success, while positive ones (like being in shotgun\n",
    "formation) increase it. Coaches can translate these odds into decisions: if the probability of success\n",
    "multiplied by the value of a conversion outweighs the cost of failure, going for it becomes the analytically\n",
    "sound choice.\n",
    "\n",
    "Even with a simple model we capture meaningful tendencies from real NFL behavior—proof that data can\n",
    "shed light on those pivotal fourth-down gambles.\n"
   ]
  }
 ],
 "metadata": {},
 "nbformat": 4,
 "nbformat_minor": 5
}
