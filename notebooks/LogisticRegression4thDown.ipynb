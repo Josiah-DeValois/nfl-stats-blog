{
 "cells": [
  {
   "cell_type": "markdown",
   "id": "83344131",
   "metadata": {},
   "source": [
    "# Logistic Regression for Fourth-Down Decisions\n",
    "\n",
    "We model whether an offense should go for it on fourth down using logistic regression on engineered features like expected points added (EPA), yards to go, score differential, and time remaining."
   ]
  },
  {
   "cell_type": "markdown",
   "id": "ff4e398a",
   "metadata": {},
   "source": [
    "## Logistic Function\n",
    "For features $x$ and coefficients $\beta$, logistic regression models\n",
    "\\[ P(y=1|x) = \f",
    "rac{1}{1+e^{-x^T\beta}} \\]\\nwhere $y=1$ denotes an aggressive decision (go for it)."
   ]
  },
  {
   "cell_type": "code",
   "execution_count": null,
   "id": "7e58e16a",
   "metadata": {},
   "outputs": [],
   "source": [
    "import numpy as np\n",
    "import pandas as pd\n",
    "from sklearn.linear_model import LogisticRegression\n",
    "from sklearn.metrics import classification_report\n",
    "np.random.seed(1)\n",
    "N=200\n",
    "X = pd.DataFrame({\n",
    "    'epa': np.random.normal(0,1,N),\n",
    "    'yards_to_go': np.random.randint(1,10,N),\n",
    "    'score_diff': np.random.randint(-14,14,N),\n",
    "    'time_remaining': np.random.randint(1,3600,N)\n",
    "})\n",
    "# true decision boundary\n",
    "logit = 1.2*X['epa'] -0.1*X['yards_to_go'] -0.03*X['score_diff'] -0.0005*X['time_remaining']\n",
    "prob = 1/(1+np.exp(-logit))\n",
    "actual_decision = np.random.binomial(1, prob)\n",
    "model = LogisticRegression()\n",
    "model.fit(X, actual_decision)\n",
    "pred = model.predict(X)\n",
    "print(classification_report(actual_decision, pred))"
   ]
  },
  {
   "cell_type": "markdown",
   "id": "1304621b",
   "metadata": {},
   "source": [
    "## Commentary\n",
    "Logistic regression provides interpretable coefficients indicating how each factor affects the log-odds of an aggressive call. Comparing model recommendations to real-world coaching tendencies can highlight conservative or risky behaviors."
   ]
  }
 ],
 "metadata": {},
 "nbformat": 4,
 "nbformat_minor": 5
}
