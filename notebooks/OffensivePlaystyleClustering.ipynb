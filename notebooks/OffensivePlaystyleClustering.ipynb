{
 "cells": [
  {
   "cell_type": "markdown",
   "id": "3db7a238",
   "metadata": {},
   "source": [
    "# Clustering Offensive Playstyles\n",
    "\n",
    "We apply k-means clustering to categorize teams by offensive tendencies such as pass rate and efficiency."
   ]
  },
  {
   "cell_type": "markdown",
   "id": "d4ed400a",
   "metadata": {},
   "source": [
    "## K-Means Objective\n",
    "Given observations $x_i$, k-means minimizes within-cluster variance:\n",
    "\\[ \\sum_{i=1}^n \\|x_i - \\mu_{c_i}\\|^2 \\] where $\\mu_{c_i}$ is the centroid of cluster $c_i$."
   ]
  },
  {
   "cell_type": "code",
   "execution_count": null,
   "id": "aa7b0e4b",
   "metadata": {},
   "outputs": [],
   "source": [
    "import numpy as np\n",
    "import pandas as pd\n",
    "from sklearn.cluster import KMeans\n",
    "np.random.seed(2)\n",
    "teams = [f'Team {i}' for i in range(8)]\n",
    "data = pd.DataFrame({\n",
    "    'team': teams,\n",
    "    'pass_rate': np.random.uniform(0.4,0.7,8),\n",
    "    'epa_per_play': np.random.normal(0,0.2,8)\n",
    "})\n",
    "features = data[['pass_rate','epa_per_play']]\n",
    "km = KMeans(n_clusters=3, random_state=0)\n",
    "clusters = km.fit_predict(features)\n",
    "data['cluster'] = clusters\n",
    "print(data)\n"
   ]
  },
  {
   "cell_type": "markdown",
   "id": "92037b94",
   "metadata": {},
   "source": [
    "## Visualization\n",
    "Using two features allows us to scatter-plot teams by playstyle. Clusters group similar offensive strategies."
   ]
  }
 ],
 "metadata": {},
 "nbformat": 4,
 "nbformat_minor": 5
}
