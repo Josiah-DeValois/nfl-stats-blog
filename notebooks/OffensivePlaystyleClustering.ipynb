{
 "cells": [
  {
   "cell_type": "markdown",
   "id": "44b16865",
   "metadata": {},
   "source": [
    "\n",
    "# Offensive DNA of NFL Teams: K-Means Clustering\n",
    "\n",
    "Every franchise puts its own spin on moving the ball. Some air it out, others grind on the ground. In this\n",
    "notebook we use real 2023 play-by-play data to quantify each team's style and then let k-means clustering\n",
    "group similar offenses together.\n"
   ]
  },
  {
   "cell_type": "markdown",
   "id": "8a397f0e",
   "metadata": {},
   "source": [
    "\n",
    "## The k-means objective\n",
    "Given team features \\(x_i\\), k-means partitions teams into \\(k\\) groups by minimizing the distance from each\n",
    "team to its cluster center:\n",
    "\\[ \\sum_{i=1}^n \\lVert x_i - \\mu_{c_i} \r",
    "Vert^2 \\]\n",
    "This creates clusters where teams inside a group play a similar brand of football.\n"
   ]
  },
  {
   "cell_type": "code",
   "execution_count": null,
   "id": "f9f22d29",
   "metadata": {},
   "outputs": [],
   "source": [
    "\n",
    "import pandas as pd\n",
    "from sklearn.cluster import KMeans\n",
    "import matplotlib.pyplot as plt\n",
    "\n",
    "# load team-level summary data\n",
    "teams = pd.read_csv('../data/team_summary_2023.csv')\n",
    "print(f\"Loaded {len(teams)} teams\")\n",
    "teams.head()\n"
   ]
  },
  {
   "cell_type": "markdown",
   "id": "bcb19865",
   "metadata": {},
   "source": [
    "\n",
    "## Clustering by play style\n",
    "We'll cluster teams using two simple features:\n",
    "\n",
    "* `pass_rate` – fraction of plays that are passes\n",
    "* `epa_per_play` – average expected points added per play\n",
    "\n",
    "These give a sense of both **tendency** and **efficiency**.\n"
   ]
  },
  {
   "cell_type": "code",
   "execution_count": null,
   "id": "606aa64c",
   "metadata": {},
   "outputs": [],
   "source": [
    "\n",
    "features = teams[['pass_rate','epa_per_play']]\n",
    "km = KMeans(n_clusters=3, random_state=0)\n",
    "teams['cluster'] = km.fit_predict(features)\n",
    "teams.sort_values('cluster').head()\n"
   ]
  },
  {
   "cell_type": "markdown",
   "id": "3b75665d",
   "metadata": {},
   "source": [
    "\n",
    "## Visualizing the clusters\n",
    "A scatter plot makes the groupings easy to see.\n"
   ]
  },
  {
   "cell_type": "code",
   "execution_count": null,
   "id": "0ee148b9",
   "metadata": {},
   "outputs": [],
   "source": [
    "\n",
    "plt.figure(figsize=(8,6))\n",
    "for c, group in teams.groupby('cluster'):\n",
    "    plt.scatter(group['pass_rate'], group['epa_per_play'], label=f'Cluster {c}')\n",
    "for _, row in teams.iterrows():\n",
    "    plt.text(row['pass_rate']+0.001, row['epa_per_play']+0.001, row['posteam'], fontsize=8)\n",
    "plt.xlabel('Pass Rate')\n",
    "plt.ylabel('EPA per Play')\n",
    "plt.legend()\n",
    "plt.title('Offensive Play Style Clusters (2023)')\n",
    "plt.tight_layout()\n",
    "plt.show()\n"
   ]
  },
  {
   "cell_type": "markdown",
   "id": "4a737234",
   "metadata": {},
   "source": [
    "\n",
    "## Takeaways\n",
    "K-means separates high-tempo passing attacks from run-heavy units and everything in between. While the\n",
    "features here are simple, the approach scales—add more metrics like pace, formation usage, or motion rate\n",
    "to build a richer fingerprint of each team's offensive DNA.\n"
   ]
  }
 ],
 "metadata": {},
 "nbformat": 4,
 "nbformat_minor": 5
}
