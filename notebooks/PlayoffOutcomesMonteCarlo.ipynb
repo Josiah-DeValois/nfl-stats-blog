{
 "cells": [
  {
   "cell_type": "markdown",
   "id": "de615bcd",
   "metadata": {},
   "source": [
    "# Monte Carlo Simulation of Playoff Outcomes\n",
    "\n",
    "We simulate a simplified playoff bracket many times to estimate each team's championship probability."
   ]
  },
  {
   "cell_type": "markdown",
   "id": "fe0774e6",
   "metadata": {},
   "source": [
    "## Monte Carlo Method\n",
    "Repeated random sampling approximates complex probability distributions. As the number of simulations grows, estimates converge by the law of large numbers."
   ]
  },
  {
   "cell_type": "code",
   "execution_count": null,
   "id": "f549beab",
   "metadata": {},
   "outputs": [],
   "source": [
    "import numpy as np\n",
    "teams = ['A','B','C','D']\n",
    "win_prob = {\n",
    " ('A','B'):0.6,\n",
    " ('C','D'):0.55,\n",
    " ('A','C'):0.52,\n",
    " ('A','D'):0.58,\n",
    " ('B','C'):0.45,\n",
    " ('B','D'):0.5,\n",
    " ('C','A'):0.48,\n",
    " ('D','A'):0.42,\n",
    " ('C','B'):0.55,\n",
    " ('D','B'):0.5\n",
    "}\n",
    "champ_counts = dict.fromkeys(teams,0)\n",
    "N=10000\n",
    "for _ in range(N):\n",
    "    semi1 = 'A' if np.random.rand() < win_prob[('A','B')] else 'B'\n",
    "    semi2 = 'C' if np.random.rand() < win_prob[('C','D')] else 'D'\n",
    "    final_match = (semi1, semi2)\n",
    "    if np.random.rand() < win_prob[(semi1, semi2)]:\n",
    "        champ = semi1\n",
    "    else:\n",
    "        champ = semi2\n",
    "    champ_counts[champ]+=1\n",
    "for t,c in champ_counts.items():\n",
    "    print(t, c/N)\n"
   ]
  },
  {
   "cell_type": "markdown",
   "id": "023c634f",
   "metadata": {},
   "source": [
    "## Interpretation\n",
    "Simulation provides approximate championship odds without closed-form calculations."
   ]
  }
 ],
 "metadata": {},
 "nbformat": 4,
 "nbformat_minor": 5
}
